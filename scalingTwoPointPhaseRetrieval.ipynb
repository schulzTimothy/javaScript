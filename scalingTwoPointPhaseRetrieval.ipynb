{
  "nbformat": 4,
  "nbformat_minor": 0,
  "metadata": {
    "colab": {
      "name": "scalingTwoPointPhaseRetrieval.ipynb",
      "provenance": [],
      "authorship_tag": "ABX9TyMvIByt6xTl9l0DH5AXM2Yl",
      "include_colab_link": true
    },
    "kernelspec": {
      "name": "python3",
      "display_name": "Python 3"
    }
  },
  "cells": [
    {
      "cell_type": "markdown",
      "metadata": {
        "id": "view-in-github",
        "colab_type": "text"
      },
      "source": [
        "<a href=\"https://colab.research.google.com/github/schulzTimothy/javaScript/blob/master/scalingTwoPointPhaseRetrieval.ipynb\" target=\"_parent\"><img src=\"https://colab.research.google.com/assets/colab-badge.svg\" alt=\"Open In Colab\"/></a>"
      ]
    },
    {
      "cell_type": "code",
      "metadata": {
        "id": "wm0DHK6CZqip",
        "colab_type": "code",
        "colab": {}
      },
      "source": [
        ""
      ],
      "execution_count": 0,
      "outputs": []
    },
    {
      "cell_type": "markdown",
      "metadata": {
        "id": "ga-sw876ZrPe",
        "colab_type": "text"
      },
      "source": [
        "## Scaling the two-point phase-retrieval system\n",
        "We'd like to measure the elements of a complex-valued field \n",
        "\n",
        "\\begin{equation}\n",
        "\\underline{g} = \n",
        "\\left[\n",
        "  \\begin{array}{c}\n",
        "  g_1 \\\\ g_2 \\\\ \\vdots \\\\ g_K\n",
        "  \\end{array}\n",
        "\\right]\n",
        "=\n",
        "\\left[\n",
        "  \\begin{array}{c}\n",
        "  a_1 e^{j\\theta_1} \\\\ a_2 e^{j\\theta_2} \\\\ \\vdots \\\\ a_Ke^{j\\theta_K}\n",
        "  \\end{array}\n",
        "\\right],\n",
        "\\end{equation}\n",
        "\n",
        "that is incident on some sensing aperture. To do this, let's suppose we have a two-point phase-retrieval system that can estimate two amplitudes and a phase difference:\n",
        "![picture](https://drive.google.com/uc?id=1aJ1m4sJv1wS9_comcVC2kKoOtebSU5Af)\n",
        "where $\\alpha$ is a scaling parameter that accounts for any splitting of the field, and the variances $\\sigma^2_a(k,l)$, $\\sigma^2_a(l,k)$, and $\\sigma^2_{\\theta}(l,k)$ are functions of the unscaled amplitudes $a_k$ and $a_l$. \n",
        "\n",
        "Suppose, for example, that we use this system to measure all two-point pairs for a four-element signal as shown below:\n",
        "![picture](https://drive.google.com/uc?id=1TUYWcieIflPP5prJLKMpWLQs2-hAkO3P)\n",
        "Because each amplitude is split three times, the scaling parameter would be $\\alpha = 1/\\sqrt{3}$. To estimate $a_1$, we might combine the measurements as:\n",
        "\\begin{align}\n",
        "\\widehat{a}_1 \n",
        "& = \\frac{1}{3 \\alpha} \n",
        "\\left( \\widehat{a}_{1,2} + \\widehat{a}_{1,3} + \\widehat{a}_{1,4}\\right),\n",
        "\\end{align}\n",
        "so that\n",
        "\\begin{align}\n",
        "E\\left[ \\widehat{a}_1 \\right]\n",
        "& = \\frac{1}{3 \\alpha} \\left(3 \\alpha a_1 \\right) \\nonumber \\\\\n",
        "& = a_1,\n",
        "\\end{align}\n",
        "and\n",
        "\\begin{align}\n",
        "\\sigma^2_{\\widehat{a}_1}\n",
        "& = \\frac{1}{(3 \\alpha)^2} \\left[\n",
        "\\sigma_a^2(1,2) + \n",
        "\\sigma_a^2(1,3) +\n",
        "\\sigma_a^2(1,4) \n",
        "\\right] \\nonumber \\\\\n",
        "& = \\frac{1}{3} \\left[\n",
        "\\sigma_a^2(1,2) + \n",
        "\\sigma_a^2(1,3) +\n",
        "\\sigma_a^2(1,4) \n",
        "\\right].\n",
        "\\end{align}\n",
        "Accordingly, the variance with which we estimate $a_1$ is the average of the variances with which we can estimate $a_1$ when the signal element $s_1$ is paired with each of the other signal elements. In general, then, the estimation of the amplitudes will not degrade when we increase the number of elements in the signal. \n",
        "\n",
        "The six measurements will obtain estimates of the following phase differences:\n",
        "\\begin{equation}\n",
        "\\begin{array}{c}\n",
        "\\widehat{\\theta}_{2,1} \\simeq \\theta_2 - \\theta_1 \\\\\n",
        "\\widehat{\\theta}_{3,2} \\simeq \\theta_3 - \\theta_2 \\\\\n",
        "\\widehat{\\theta}_{4,3} \\simeq \\theta_4 - \\theta_3 \\\\\n",
        "\\widehat{\\theta}_{3,1} \\simeq \\theta_3 - \\theta_1 \\\\\n",
        "\\widehat{\\theta}_{4,2} \\simeq \\theta_4 - \\theta_2 \\\\\n",
        "\\widehat{\\theta}_{4,1} \\simeq \\theta_4 - \\theta_1\n",
        "\\end{array}\n",
        "\\end{equation}\n",
        "\n",
        "Because one of these phases is arbitrary, we could set $\\theta_1 = 0$ and use the system of equations:\n",
        "\n",
        "\\begin{equation}\n",
        "\\left[\n",
        "  \\begin{array}{c}\n",
        "  \\widehat{\\theta}_{2,1} \\\\\n",
        "  \\widehat{\\theta}_{3,2} \\\\\n",
        "  \\widehat{\\theta}_{4,3} \\\\\n",
        "  \\widehat{\\theta}_{3,1} \\\\\n",
        "  \\widehat{\\theta}_{4,2} \\\\\n",
        "  \\widehat{\\theta}_{4,1} \n",
        "  \\end{array}\n",
        "\\right]\n",
        "=\n",
        "\\left[\n",
        "  \\begin{array}{ccc}\n",
        "  1 & 0 & 0  \\\\\n",
        "  -1 & 1 & 0  \\\\\n",
        "  0 & -1 & 1  \\\\\n",
        "  0 & 1 & 0  \\\\\n",
        "  -1 & 0 & 1 \\\\\n",
        "  0 & 0 & 1\n",
        "  \\end{array}\n",
        "\\right]  \n",
        "\\left[\n",
        "  \\begin{array}{c}\n",
        "  \\theta_2 \\\\ \\theta_3 \\\\ \\theta_4\n",
        "  \\end{array}\n",
        "\\right]  \n",
        "\\end{equation}  \n",
        "to formulate our estimates for $\\theta_2$, $\\theta_3$, and $\\theta_4$:\n",
        "\n",
        "\\begin{equation}\n",
        "\\left[\n",
        "  \\begin{array}{c}\n",
        "  \\widehat{\\theta}_2 \\\\ \n",
        "  \\widehat{\\theta}_3 \\\\ \n",
        "  \\widehat{\\theta}_4\n",
        "  \\end{array}\n",
        "\\right] \n",
        "=\n",
        "\\frac{1}{4}\n",
        "\\left[\n",
        "  \\begin{array}{cccccc}\n",
        "  2 & -1 & 0 & 1 & -1 & 1 \\\\\n",
        "  1 & 1 & -1 & 2 & 0 & 1 \\\\\n",
        "  1 & 0 & 1 & 1 & 1 & 2 \n",
        "  \\end{array}\n",
        "\\right]\n",
        "\\left[\n",
        "  \\begin{array}{c}\n",
        "  \\widehat{\\theta}_{2,1} \\\\\n",
        "  \\widehat{\\theta}_{3,2} \\\\\n",
        "  \\widehat{\\theta}_{4,3} \\\\\n",
        "  \\widehat{\\theta}_{3,1} \\\\\n",
        "  \\widehat{\\theta}_{4,2} \\\\\n",
        "  \\widehat{\\theta}_{4,1} \n",
        "  \\end{array}\n",
        "\\right]  \n",
        "\\end{equation}\n",
        "Then, to use $\\widehat{\\theta}_2$ as an example, the estimator variance will be:\n",
        "\n",
        "\\begin{align}\n",
        "\\sigma^2_{\\widehat{\\theta}_2} \n",
        "& = \n",
        "\\frac{1}{16} \n",
        "\\left(\n",
        "  \\frac{4}{\\alpha^2} \\sigma^2_{\\theta}(2,1) + \n",
        "  \\frac{1}{\\alpha^2} \\sigma^2_{\\theta}(3,2) + \n",
        "  \\frac{1}{\\alpha^2} \\sigma^2_{\\theta}(3,1) + \n",
        "  \\frac{1}{\\alpha^2} \\sigma^2_{\\theta}(4,2) + \n",
        "  \\frac{1}{\\alpha^2} \\sigma^2_{\\theta}(4,1) + \n",
        "\\right)  \\nonumber \\\\\n",
        "& \\leq \\frac{8}{16 \\alpha^2} \\mbox{max}(\\sigma^2_{\\theta})\n",
        "\\end{align}\n",
        "\n",
        "where $\\mbox{max}(\\sigma^2_{\\theta})$ is the maximum value for the pairwise variances used to evalute $\\sigma^2_{\\widehat{\\theta}_2}$. Now, because $\\alpha = 1/\\sqrt{3}$, we have that \n",
        "\\begin{equation}\n",
        "\\sigma^2_{\\widehat{\\theta}_2} \\leq \\frac{3}{2} \\mbox{max}(\\sigma^2_{\\theta}).\n",
        "\\end{equation}\n",
        "For an arbitrary number of elements $K$, the variance for the phase estimation will satisfy:\n",
        "\\begin{equation}\n",
        "\\sigma^2_{\\widehat{\\theta}_k} \\leq \\frac{2 (K-1)}{K} \\mbox{max}(\\sigma^2_{\\theta}).\n",
        "\\end{equation}\n",
        "\n",
        "(NEED TO INCLUDE SOME CODE TO SHOW THIS.)"
      ]
    },
    {
      "cell_type": "code",
      "metadata": {
        "id": "K4fB7VAeZ0PI",
        "colab_type": "code",
        "colab": {}
      },
      "source": [
        "import numpy as np\n",
        "import matplotlib as mpl\n",
        "import matplotlib.pyplot as plt\n",
        "from scipy import linalg\n",
        "from scipy.linalg import toeplitz\n",
        "%matplotlib inline\n",
        "plt.rcParams['figure.figsize'] = [20, 10]\n",
        "np.set_printoptions(suppress=True)\n",
        "np.set_printoptions(precision=3)"
      ],
      "execution_count": 0,
      "outputs": []
    },
    {
      "cell_type": "code",
      "metadata": {
        "id": "GTkFjMgKWSw1",
        "colab_type": "code",
        "colab": {
          "base_uri": "https://localhost:8080/",
          "height": 119
        },
        "outputId": "6e11bd2a-8b5b-4e80-b731-5311d1933e2c"
      },
      "source": [
        "K = 6;\n",
        "L = np.int_(np.round(K*(K-1)/2));\n",
        "A = np.zeros((L,K));\n",
        "\n",
        "  \n",
        "\n",
        "\n",
        "print(A)"
      ],
      "execution_count": 14,
      "outputs": [
        {
          "output_type": "stream",
          "text": [
            "[[0. 0. 0. 0. 0. 0.]\n",
            " [0. 0. 0. 0. 0. 0.]\n",
            " [0. 0. 0. 0. 0. 0.]\n",
            " [0. 0. 0. 0. 0. 0.]\n",
            " [0. 0. 0. 0. 0. 0.]\n",
            " [0. 0. 0. 0. 0. 0.]]\n"
          ],
          "name": "stdout"
        }
      ]
    },
    {
      "cell_type": "code",
      "metadata": {
        "id": "gDTkS01_X4Bo",
        "colab_type": "code",
        "colab": {}
      },
      "source": [
        ""
      ],
      "execution_count": 0,
      "outputs": []
    }
  ]
}